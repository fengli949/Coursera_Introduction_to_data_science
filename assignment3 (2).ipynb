{
 "cells": [
  {
   "cell_type": "markdown",
   "metadata": {
    "deletable": false,
    "editable": false,
    "nbgrader": {
     "cell_type": "markdown",
     "checksum": "ab80976c194c2c1bfebb7f3a12fc4e58",
     "grade": false,
     "grade_id": "cell-018440ed2f1b6a62",
     "locked": true,
     "schema_version": 3,
     "solution": false
    }
   },
   "source": [
    "# Assignment 3\n",
    "All questions are weighted the same in this assignment. This assignment requires more individual learning then the last one did - you are encouraged to check out the [pandas documentation](http://pandas.pydata.org/pandas-docs/stable/) to find functions or methods you might not have used yet, or ask questions on [Stack Overflow](http://stackoverflow.com/) and tag them as pandas and python related. All questions are worth the same number of points except question 1 which is worth 17% of the assignment grade.\n",
    "\n",
    "**Note**: Questions 2-13 rely on your question 1 answer."
   ]
  },
  {
   "cell_type": "code",
   "execution_count": 1,
   "metadata": {},
   "outputs": [],
   "source": [
    "import pandas as pd\n",
    "import numpy as np\n",
    "\n",
    "# Filter all warnings. If you would like to see the warnings, please comment the two lines below.\n",
    "import warnings\n",
    "warnings.filterwarnings('ignore')"
   ]
  },
  {
   "cell_type": "markdown",
   "metadata": {
    "deletable": false,
    "editable": false,
    "nbgrader": {
     "cell_type": "markdown",
     "checksum": "68063b8b0783f3d8122b516e0cce5f45",
     "grade": false,
     "grade_id": "cell-7e5190c7ff1f2e42",
     "locked": true,
     "schema_version": 3,
     "solution": false
    }
   },
   "source": [
    "### Question 1\n",
    "Load the energy data from the file `assets/Energy Indicators.xls`, which is a list of indicators of [energy supply and renewable electricity production](assets/Energy%20Indicators.xls) from the [United Nations](http://unstats.un.org/unsd/environment/excel_file_tables/2013/Energy%20Indicators.xls) for the year 2013, and should be put into a DataFrame with the variable name of **Energy**.\n",
    "\n",
    "Keep in mind that this is an Excel file, and not a comma separated values file. Also, make sure to exclude the footer and header information from the datafile. The first two columns are unneccessary, so you should get rid of them, and you should change the column labels so that the columns are:\n",
    "\n",
    "`['Country', 'Energy Supply', 'Energy Supply per Capita', '% Renewable]`\n",
    "\n",
    "Convert `Energy Supply` to gigajoules (**Note: there are 1,000,000 gigajoules in a petajoule**). For all countries which have missing data (e.g. data with \"...\") make sure this is reflected as `np.NaN` values.\n",
    "\n",
    "Rename the following list of countries (for use in later questions):\n",
    "\n",
    "```\"Republic of Korea\": \"South Korea\",\n",
    "\"United States of America\": \"United States\",\n",
    "\"United Kingdom of Great Britain and Northern Ireland\": \"United Kingdom\",\n",
    "\"China, Hong Kong Special Administrative Region\": \"Hong Kong\"```\n",
    "\n",
    "There are also several countries with parenthesis in their name. Be sure to remove these, e.g. `'Bolivia (Plurinational State of)'` should be `'Bolivia'`.\n",
    "\n",
    "Next, load the GDP data from the file `assets/world_bank.csv`, which is a csv containing countries' GDP from 1960 to 2015 from [World Bank](http://data.worldbank.org/indicator/NY.GDP.MKTP.CD). Call this DataFrame **GDP**. \n",
    "\n",
    "Make sure to skip the header, and rename the following list of countries:\n",
    "\n",
    "```\"Korea, Rep.\": \"South Korea\", \n",
    "\"Iran, Islamic Rep.\": \"Iran\",\n",
    "\"Hong Kong SAR, China\": \"Hong Kong\"```\n",
    "\n",
    "Finally, load the [Sciamgo Journal and Country Rank data for Energy Engineering and Power Technology](http://www.scimagojr.com/countryrank.php?category=2102) from the file `assets/scimagojr-3.xlsx`, which ranks countries based on their journal contributions in the aforementioned area. Call this DataFrame **ScimEn**.\n",
    "\n",
    "Join the three datasets: GDP, Energy, and ScimEn into a new dataset (using the intersection of country names). Use only the last 10 years (2006-2015) of GDP data and only the top 15 countries by Scimagojr 'Rank' (Rank 1 through 15). \n",
    "\n",
    "The index of this DataFrame should be the name of the country, and the columns should be ['Rank', 'Documents', 'Citable documents', 'Citations', 'Self-citations',\n",
    "       'Citations per document', 'H index', 'Energy Supply',\n",
    "       'Energy Supply per Capita', '% Renewable', '2006', '2007', '2008',\n",
    "       '2009', '2010', '2011', '2012', '2013', '2014', '2015'].\n",
    "\n",
    "*This function should return a DataFrame with 20 columns and 15 entries, and the rows of the DataFrame should be sorted by \"Rank\".*"
   ]
  },
  {
   "cell_type": "code",
   "execution_count": 2,
   "metadata": {
    "deletable": false,
    "nbgrader": {
     "cell_type": "code",
     "checksum": "57e040f07954f979910eddc0f489ffe5",
     "grade": false,
     "grade_id": "cell-bce4d6f2ecdd1297",
     "locked": false,
     "schema_version": 3,
     "solution": true
    }
   },
   "outputs": [
    {
     "data": {
      "text/html": [
       "<div>\n",
       "<style scoped>\n",
       "    .dataframe tbody tr th:only-of-type {\n",
       "        vertical-align: middle;\n",
       "    }\n",
       "\n",
       "    .dataframe tbody tr th {\n",
       "        vertical-align: top;\n",
       "    }\n",
       "\n",
       "    .dataframe thead th {\n",
       "        text-align: right;\n",
       "    }\n",
       "</style>\n",
       "<table border=\"1\" class=\"dataframe\">\n",
       "  <thead>\n",
       "    <tr style=\"text-align: right;\">\n",
       "      <th></th>\n",
       "      <th>Rank</th>\n",
       "      <th>Documents</th>\n",
       "      <th>Citable documents</th>\n",
       "      <th>Citations</th>\n",
       "      <th>Self-citations</th>\n",
       "      <th>Citations per document</th>\n",
       "      <th>H index</th>\n",
       "      <th>Energy Supply</th>\n",
       "      <th>Energy Supply per Capita</th>\n",
       "      <th>% Renewable</th>\n",
       "      <th>2006</th>\n",
       "      <th>2007</th>\n",
       "      <th>2008</th>\n",
       "      <th>2009</th>\n",
       "      <th>2010</th>\n",
       "      <th>2011</th>\n",
       "      <th>2012</th>\n",
       "      <th>2013</th>\n",
       "      <th>2014</th>\n",
       "      <th>2015</th>\n",
       "    </tr>\n",
       "    <tr>\n",
       "      <th>Country</th>\n",
       "      <th></th>\n",
       "      <th></th>\n",
       "      <th></th>\n",
       "      <th></th>\n",
       "      <th></th>\n",
       "      <th></th>\n",
       "      <th></th>\n",
       "      <th></th>\n",
       "      <th></th>\n",
       "      <th></th>\n",
       "      <th></th>\n",
       "      <th></th>\n",
       "      <th></th>\n",
       "      <th></th>\n",
       "      <th></th>\n",
       "      <th></th>\n",
       "      <th></th>\n",
       "      <th></th>\n",
       "      <th></th>\n",
       "      <th></th>\n",
       "    </tr>\n",
       "  </thead>\n",
       "  <tbody>\n",
       "    <tr>\n",
       "      <th>China</th>\n",
       "      <td>1</td>\n",
       "      <td>127050</td>\n",
       "      <td>126767</td>\n",
       "      <td>597237</td>\n",
       "      <td>411683</td>\n",
       "      <td>5</td>\n",
       "      <td>138</td>\n",
       "      <td>127191000000</td>\n",
       "      <td>93</td>\n",
       "      <td>20</td>\n",
       "      <td>3992331462571</td>\n",
       "      <td>4559041383518</td>\n",
       "      <td>4997775145606</td>\n",
       "      <td>5459247267275</td>\n",
       "      <td>6039658508486</td>\n",
       "      <td>6612490294274</td>\n",
       "      <td>7124977970400</td>\n",
       "      <td>7672447738017</td>\n",
       "      <td>8230120617794</td>\n",
       "      <td>8797998940421</td>\n",
       "    </tr>\n",
       "    <tr>\n",
       "      <th>United States</th>\n",
       "      <td>2</td>\n",
       "      <td>96661</td>\n",
       "      <td>94747</td>\n",
       "      <td>792274</td>\n",
       "      <td>265436</td>\n",
       "      <td>8</td>\n",
       "      <td>230</td>\n",
       "      <td>90838000000</td>\n",
       "      <td>286</td>\n",
       "      <td>12</td>\n",
       "      <td>14792303791800</td>\n",
       "      <td>15055395304800</td>\n",
       "      <td>15011490541400</td>\n",
       "      <td>14594842181900</td>\n",
       "      <td>14964372000000</td>\n",
       "      <td>15204019634600</td>\n",
       "      <td>15542161722300</td>\n",
       "      <td>15773666098800</td>\n",
       "      <td>16156618476000</td>\n",
       "      <td>16548573278300</td>\n",
       "    </tr>\n",
       "    <tr>\n",
       "      <th>Japan</th>\n",
       "      <td>3</td>\n",
       "      <td>30504</td>\n",
       "      <td>30287</td>\n",
       "      <td>223024</td>\n",
       "      <td>61554</td>\n",
       "      <td>7</td>\n",
       "      <td>134</td>\n",
       "      <td>18984000000</td>\n",
       "      <td>149</td>\n",
       "      <td>10</td>\n",
       "      <td>5496541517363</td>\n",
       "      <td>5617035943771</td>\n",
       "      <td>5558526873314</td>\n",
       "      <td>5251308399909</td>\n",
       "      <td>5498717815810</td>\n",
       "      <td>5473738114222</td>\n",
       "      <td>5569101602926</td>\n",
       "      <td>5644658523313</td>\n",
       "      <td>5642884448582</td>\n",
       "      <td>5669563143141</td>\n",
       "    </tr>\n",
       "    <tr>\n",
       "      <th>United Kingdom</th>\n",
       "      <td>4</td>\n",
       "      <td>20944</td>\n",
       "      <td>20357</td>\n",
       "      <td>206091</td>\n",
       "      <td>37874</td>\n",
       "      <td>10</td>\n",
       "      <td>139</td>\n",
       "      <td>7920000000</td>\n",
       "      <td>124</td>\n",
       "      <td>11</td>\n",
       "      <td>2419630700402</td>\n",
       "      <td>2482203235476</td>\n",
       "      <td>2470614405284</td>\n",
       "      <td>2367047611712</td>\n",
       "      <td>2403504326329</td>\n",
       "      <td>2450911011125</td>\n",
       "      <td>2479808627472</td>\n",
       "      <td>2533370110012</td>\n",
       "      <td>2605643189895</td>\n",
       "      <td>2666333396477</td>\n",
       "    </tr>\n",
       "    <tr>\n",
       "      <th>Russian Federation</th>\n",
       "      <td>5</td>\n",
       "      <td>18534</td>\n",
       "      <td>18301</td>\n",
       "      <td>34266</td>\n",
       "      <td>12422</td>\n",
       "      <td>2</td>\n",
       "      <td>57</td>\n",
       "      <td>30709000000</td>\n",
       "      <td>214</td>\n",
       "      <td>17</td>\n",
       "      <td>1385792607183</td>\n",
       "      <td>1504071117741</td>\n",
       "      <td>1583004071092</td>\n",
       "      <td>1459199142720</td>\n",
       "      <td>1524917468442</td>\n",
       "      <td>1589942641764</td>\n",
       "      <td>1645875899596</td>\n",
       "      <td>1666934123163</td>\n",
       "      <td>1678708855071</td>\n",
       "      <td>1616148858034</td>\n",
       "    </tr>\n",
       "    <tr>\n",
       "      <th>Canada</th>\n",
       "      <td>6</td>\n",
       "      <td>17899</td>\n",
       "      <td>17620</td>\n",
       "      <td>215003</td>\n",
       "      <td>40930</td>\n",
       "      <td>12</td>\n",
       "      <td>149</td>\n",
       "      <td>10431000000</td>\n",
       "      <td>296</td>\n",
       "      <td>62</td>\n",
       "      <td>1564468853329</td>\n",
       "      <td>1596739898466</td>\n",
       "      <td>1612713061250</td>\n",
       "      <td>1565144676082</td>\n",
       "      <td>1613406134731</td>\n",
       "      <td>1664086754805</td>\n",
       "      <td>1693132927878</td>\n",
       "      <td>1730687770724</td>\n",
       "      <td>1773485821200</td>\n",
       "      <td>1792608764609</td>\n",
       "    </tr>\n",
       "    <tr>\n",
       "      <th>Germany</th>\n",
       "      <td>7</td>\n",
       "      <td>17027</td>\n",
       "      <td>16831</td>\n",
       "      <td>140566</td>\n",
       "      <td>27426</td>\n",
       "      <td>8</td>\n",
       "      <td>126</td>\n",
       "      <td>13261000000</td>\n",
       "      <td>165</td>\n",
       "      <td>18</td>\n",
       "      <td>3332890754967</td>\n",
       "      <td>3441560834437</td>\n",
       "      <td>3478809377483</td>\n",
       "      <td>3283339933775</td>\n",
       "      <td>3417298013245</td>\n",
       "      <td>3542371125828</td>\n",
       "      <td>3556723774834</td>\n",
       "      <td>3567317390728</td>\n",
       "      <td>3624386278146</td>\n",
       "      <td>3685555907285</td>\n",
       "    </tr>\n",
       "    <tr>\n",
       "      <th>India</th>\n",
       "      <td>8</td>\n",
       "      <td>15005</td>\n",
       "      <td>14841</td>\n",
       "      <td>128763</td>\n",
       "      <td>37209</td>\n",
       "      <td>9</td>\n",
       "      <td>115</td>\n",
       "      <td>33195000000</td>\n",
       "      <td>26</td>\n",
       "      <td>15</td>\n",
       "      <td>1265894322131</td>\n",
       "      <td>1374865195244</td>\n",
       "      <td>1428360609658</td>\n",
       "      <td>1549482541545</td>\n",
       "      <td>1708458876830</td>\n",
       "      <td>1821872415624</td>\n",
       "      <td>1924235460945</td>\n",
       "      <td>2051981849792</td>\n",
       "      <td>2200616575311</td>\n",
       "      <td>2367206118959</td>\n",
       "    </tr>\n",
       "    <tr>\n",
       "      <th>France</th>\n",
       "      <td>9</td>\n",
       "      <td>13153</td>\n",
       "      <td>12973</td>\n",
       "      <td>130632</td>\n",
       "      <td>28601</td>\n",
       "      <td>10</td>\n",
       "      <td>114</td>\n",
       "      <td>10597000000</td>\n",
       "      <td>166</td>\n",
       "      <td>17</td>\n",
       "      <td>2607839735099</td>\n",
       "      <td>2669423841060</td>\n",
       "      <td>2674637086093</td>\n",
       "      <td>2595966887417</td>\n",
       "      <td>2646994701987</td>\n",
       "      <td>2702031788079</td>\n",
       "      <td>2706968211921</td>\n",
       "      <td>2722566887417</td>\n",
       "      <td>2729631788079</td>\n",
       "      <td>2761185430464</td>\n",
       "    </tr>\n",
       "    <tr>\n",
       "      <th>South Korea</th>\n",
       "      <td>10</td>\n",
       "      <td>11983</td>\n",
       "      <td>11923</td>\n",
       "      <td>114675</td>\n",
       "      <td>22595</td>\n",
       "      <td>10</td>\n",
       "      <td>104</td>\n",
       "      <td>11007000000</td>\n",
       "      <td>221</td>\n",
       "      <td>2</td>\n",
       "      <td>941019882149</td>\n",
       "      <td>992431619676</td>\n",
       "      <td>1020509638540</td>\n",
       "      <td>1027729932849</td>\n",
       "      <td>1094499338703</td>\n",
       "      <td>1134795571931</td>\n",
       "      <td>1160809426197</td>\n",
       "      <td>1194429021592</td>\n",
       "      <td>1234340240503</td>\n",
       "      <td>1266580410309</td>\n",
       "    </tr>\n",
       "    <tr>\n",
       "      <th>Italy</th>\n",
       "      <td>11</td>\n",
       "      <td>10964</td>\n",
       "      <td>10794</td>\n",
       "      <td>111850</td>\n",
       "      <td>26661</td>\n",
       "      <td>10</td>\n",
       "      <td>106</td>\n",
       "      <td>6530000000</td>\n",
       "      <td>109</td>\n",
       "      <td>34</td>\n",
       "      <td>2202169663576</td>\n",
       "      <td>2234626814702</td>\n",
       "      <td>2211154176556</td>\n",
       "      <td>2089937511523</td>\n",
       "      <td>2125184794172</td>\n",
       "      <td>2137439133775</td>\n",
       "      <td>2077184315762</td>\n",
       "      <td>2040871178146</td>\n",
       "      <td>2033867707550</td>\n",
       "      <td>2049315603576</td>\n",
       "    </tr>\n",
       "    <tr>\n",
       "      <th>Spain</th>\n",
       "      <td>12</td>\n",
       "      <td>9428</td>\n",
       "      <td>9330</td>\n",
       "      <td>123336</td>\n",
       "      <td>23964</td>\n",
       "      <td>13</td>\n",
       "      <td>115</td>\n",
       "      <td>4923000000</td>\n",
       "      <td>106</td>\n",
       "      <td>38</td>\n",
       "      <td>1414822516556</td>\n",
       "      <td>1468145695364</td>\n",
       "      <td>1484529801324</td>\n",
       "      <td>1431475496689</td>\n",
       "      <td>1431672847682</td>\n",
       "      <td>1417354966887</td>\n",
       "      <td>1380215894040</td>\n",
       "      <td>1357139072848</td>\n",
       "      <td>1375605298013</td>\n",
       "      <td>1419821192053</td>\n",
       "    </tr>\n",
       "    <tr>\n",
       "      <th>Iran</th>\n",
       "      <td>13</td>\n",
       "      <td>8896</td>\n",
       "      <td>8819</td>\n",
       "      <td>57470</td>\n",
       "      <td>19125</td>\n",
       "      <td>6</td>\n",
       "      <td>72</td>\n",
       "      <td>9172000000</td>\n",
       "      <td>119</td>\n",
       "      <td>6</td>\n",
       "      <td>389552313541</td>\n",
       "      <td>425064554419</td>\n",
       "      <td>428990857822</td>\n",
       "      <td>438920754764</td>\n",
       "      <td>467790215915</td>\n",
       "      <td>485330901134</td>\n",
       "      <td>453256899728</td>\n",
       "      <td>444592553890</td>\n",
       "      <td>463902735246</td>\n",
       "      <td>NaN</td>\n",
       "    </tr>\n",
       "    <tr>\n",
       "      <th>Australia</th>\n",
       "      <td>14</td>\n",
       "      <td>8831</td>\n",
       "      <td>8725</td>\n",
       "      <td>90765</td>\n",
       "      <td>15606</td>\n",
       "      <td>10</td>\n",
       "      <td>107</td>\n",
       "      <td>5386000000</td>\n",
       "      <td>231</td>\n",
       "      <td>12</td>\n",
       "      <td>1021939264107</td>\n",
       "      <td>1060340245234</td>\n",
       "      <td>1099643871866</td>\n",
       "      <td>1119653852349</td>\n",
       "      <td>1142250506474</td>\n",
       "      <td>1169431057882</td>\n",
       "      <td>1211913217353</td>\n",
       "      <td>1241484494447</td>\n",
       "      <td>1272519759757</td>\n",
       "      <td>1301251030446</td>\n",
       "    </tr>\n",
       "    <tr>\n",
       "      <th>Brazil</th>\n",
       "      <td>15</td>\n",
       "      <td>8668</td>\n",
       "      <td>8596</td>\n",
       "      <td>60702</td>\n",
       "      <td>14396</td>\n",
       "      <td>7</td>\n",
       "      <td>86</td>\n",
       "      <td>12149000000</td>\n",
       "      <td>59</td>\n",
       "      <td>70</td>\n",
       "      <td>1845079664514</td>\n",
       "      <td>1957118136056</td>\n",
       "      <td>2056809174053</td>\n",
       "      <td>2054214562458</td>\n",
       "      <td>2208872214643</td>\n",
       "      <td>2295244758550</td>\n",
       "      <td>2339209222185</td>\n",
       "      <td>2409739667076</td>\n",
       "      <td>2412230647720</td>\n",
       "      <td>2319423390494</td>\n",
       "    </tr>\n",
       "  </tbody>\n",
       "</table>\n",
       "</div>"
      ],
      "text/plain": [
       "                    Rank  Documents  Citable documents  Citations  \\\n",
       "Country                                                             \n",
       "China                  1     127050             126767     597237   \n",
       "United States          2      96661              94747     792274   \n",
       "Japan                  3      30504              30287     223024   \n",
       "United Kingdom         4      20944              20357     206091   \n",
       "Russian Federation     5      18534              18301      34266   \n",
       "Canada                 6      17899              17620     215003   \n",
       "Germany                7      17027              16831     140566   \n",
       "India                  8      15005              14841     128763   \n",
       "France                 9      13153              12973     130632   \n",
       "South Korea           10      11983              11923     114675   \n",
       "Italy                 11      10964              10794     111850   \n",
       "Spain                 12       9428               9330     123336   \n",
       "Iran                  13       8896               8819      57470   \n",
       "Australia             14       8831               8725      90765   \n",
       "Brazil                15       8668               8596      60702   \n",
       "\n",
       "                    Self-citations  Citations per document  H index  \\\n",
       "Country                                                               \n",
       "China                       411683                       5      138   \n",
       "United States               265436                       8      230   \n",
       "Japan                        61554                       7      134   \n",
       "United Kingdom               37874                      10      139   \n",
       "Russian Federation           12422                       2       57   \n",
       "Canada                       40930                      12      149   \n",
       "Germany                      27426                       8      126   \n",
       "India                        37209                       9      115   \n",
       "France                       28601                      10      114   \n",
       "South Korea                  22595                      10      104   \n",
       "Italy                        26661                      10      106   \n",
       "Spain                        23964                      13      115   \n",
       "Iran                         19125                       6       72   \n",
       "Australia                    15606                      10      107   \n",
       "Brazil                       14396                       7       86   \n",
       "\n",
       "                    Energy Supply  Energy Supply per Capita  % Renewable  \\\n",
       "Country                                                                    \n",
       "China                127191000000                        93           20   \n",
       "United States         90838000000                       286           12   \n",
       "Japan                 18984000000                       149           10   \n",
       "United Kingdom         7920000000                       124           11   \n",
       "Russian Federation    30709000000                       214           17   \n",
       "Canada                10431000000                       296           62   \n",
       "Germany               13261000000                       165           18   \n",
       "India                 33195000000                        26           15   \n",
       "France                10597000000                       166           17   \n",
       "South Korea           11007000000                       221            2   \n",
       "Italy                  6530000000                       109           34   \n",
       "Spain                  4923000000                       106           38   \n",
       "Iran                   9172000000                       119            6   \n",
       "Australia              5386000000                       231           12   \n",
       "Brazil                12149000000                        59           70   \n",
       "\n",
       "                             2006           2007           2008  \\\n",
       "Country                                                           \n",
       "China               3992331462571  4559041383518  4997775145606   \n",
       "United States      14792303791800 15055395304800 15011490541400   \n",
       "Japan               5496541517363  5617035943771  5558526873314   \n",
       "United Kingdom      2419630700402  2482203235476  2470614405284   \n",
       "Russian Federation  1385792607183  1504071117741  1583004071092   \n",
       "Canada              1564468853329  1596739898466  1612713061250   \n",
       "Germany             3332890754967  3441560834437  3478809377483   \n",
       "India               1265894322131  1374865195244  1428360609658   \n",
       "France              2607839735099  2669423841060  2674637086093   \n",
       "South Korea          941019882149   992431619676  1020509638540   \n",
       "Italy               2202169663576  2234626814702  2211154176556   \n",
       "Spain               1414822516556  1468145695364  1484529801324   \n",
       "Iran                 389552313541   425064554419   428990857822   \n",
       "Australia           1021939264107  1060340245234  1099643871866   \n",
       "Brazil              1845079664514  1957118136056  2056809174053   \n",
       "\n",
       "                             2009           2010           2011  \\\n",
       "Country                                                           \n",
       "China               5459247267275  6039658508486  6612490294274   \n",
       "United States      14594842181900 14964372000000 15204019634600   \n",
       "Japan               5251308399909  5498717815810  5473738114222   \n",
       "United Kingdom      2367047611712  2403504326329  2450911011125   \n",
       "Russian Federation  1459199142720  1524917468442  1589942641764   \n",
       "Canada              1565144676082  1613406134731  1664086754805   \n",
       "Germany             3283339933775  3417298013245  3542371125828   \n",
       "India               1549482541545  1708458876830  1821872415624   \n",
       "France              2595966887417  2646994701987  2702031788079   \n",
       "South Korea         1027729932849  1094499338703  1134795571931   \n",
       "Italy               2089937511523  2125184794172  2137439133775   \n",
       "Spain               1431475496689  1431672847682  1417354966887   \n",
       "Iran                 438920754764   467790215915   485330901134   \n",
       "Australia           1119653852349  1142250506474  1169431057882   \n",
       "Brazil              2054214562458  2208872214643  2295244758550   \n",
       "\n",
       "                             2012           2013           2014           2015  \n",
       "Country                                                                         \n",
       "China               7124977970400  7672447738017  8230120617794  8797998940421  \n",
       "United States      15542161722300 15773666098800 16156618476000 16548573278300  \n",
       "Japan               5569101602926  5644658523313  5642884448582  5669563143141  \n",
       "United Kingdom      2479808627472  2533370110012  2605643189895  2666333396477  \n",
       "Russian Federation  1645875899596  1666934123163  1678708855071  1616148858034  \n",
       "Canada              1693132927878  1730687770724  1773485821200  1792608764609  \n",
       "Germany             3556723774834  3567317390728  3624386278146  3685555907285  \n",
       "India               1924235460945  2051981849792  2200616575311  2367206118959  \n",
       "France              2706968211921  2722566887417  2729631788079  2761185430464  \n",
       "South Korea         1160809426197  1194429021592  1234340240503  1266580410309  \n",
       "Italy               2077184315762  2040871178146  2033867707550  2049315603576  \n",
       "Spain               1380215894040  1357139072848  1375605298013  1419821192053  \n",
       "Iran                 453256899728   444592553890   463902735246            NaN  \n",
       "Australia           1211913217353  1241484494447  1272519759757  1301251030446  \n",
       "Brazil              2339209222185  2409739667076  2412230647720  2319423390494  "
      ]
     },
     "execution_count": 2,
     "metadata": {},
     "output_type": "execute_result"
    }
   ],
   "source": [
    "def answer_one():\n",
    "    # YOUR CODE HERE\n",
    "    Energy = pd.read_excel('assets/Energy Indicators.xls',skiprows=16,skipfooter=38)\n",
    "    Energy=Energy.drop(Energy.columns[[0,1]],axis=1)\n",
    "    Energy=Energy.rename(columns={'Unnamed: 2':'Country','Energy Supply per capita':'Energy Supply per Capita','Renewable Electricity Production':'% Renewable'})\n",
    "    Energy=Energy.drop([0])\n",
    "    Energy=Energy.replace('...',np.NaN)\n",
    "    Energy['Energy Supply']=Energy['Energy Supply'].apply(lambda x:x*1000000)\n",
    "    Energy['Country']=Energy['Country'].str.replace('\\d+','')\n",
    "    country_names = {\"Republic of Korea\": \"South Korea\",\"United States of America\": \"United States\",\"United Kingdom of Great Britain and Northern Ireland\": \"United Kingdom\",\"China, Hong Kong Special Administrative Region\": \"Hong Kong\"}\n",
    "    Energy = Energy.set_index('Country')\n",
    "    Energy = Energy.rename(index=country_names) \n",
    "    Energy=Energy.reset_index()\n",
    "    Energy['Country']=Energy['Country'].str.replace(r\"\\s\\(.*\\)\",\"\")\n",
    "    pd.set_option('display.float_format', lambda x: f'{x:.0f}')\n",
    "    GDP=pd.read_csv('assets/world_bank.csv',skiprows=4)\n",
    "    country_names2 = {\"Korea, Rep.\": \"South Korea\", \"Iran, Islamic Rep.\": \"Iran\", \"Hong Kong SAR, China\": \"Hong Kong\"}\n",
    "    GDP = GDP.set_index('Country Name')\n",
    "    GDP = GDP.rename(index=country_names2)\n",
    "    GDP=GDP.reset_index()\n",
    "    GDP=GDP.rename(columns={'Country Name': 'Country'})\n",
    "    ScimEn = pd.read_excel('assets/scimagojr-3.xlsx')\n",
    "    Combine = pd.merge(pd.merge(GDP,Energy,on='Country'),ScimEn,on='Country')\n",
    "    answer = Combine.loc[Combine['Rank'] <= 15].sort_values(by=['Rank'])\n",
    "    answer_one = answer[['Country','Rank', 'Documents', 'Citable documents', 'Citations', 'Self-citations', 'Citations per document', 'H index', 'Energy Supply', 'Energy Supply per Capita', '% Renewable', '2006', '2007', '2008', '2009', '2010', '2011', '2012', '2013', '2014', '2015']]\n",
    "    answer_one = answer_one.set_index('Country')\n",
    "    return answer_one\n",
    "    raise NotImplementedError()\n",
    "answer_one()"
   ]
  },
  {
   "cell_type": "code",
   "execution_count": 3,
   "metadata": {
    "deletable": false,
    "editable": false,
    "nbgrader": {
     "cell_type": "code",
     "checksum": "7bcc18b325d2935427ac2566cddd3661",
     "grade": true,
     "grade_id": "cell-780b5a4da845dbc3",
     "locked": true,
     "points": 5,
     "schema_version": 3,
     "solution": false
    }
   },
   "outputs": [],
   "source": [
    "assert type(answer_one()) == pd.DataFrame, \"Q1: You should return a DataFrame!\"\n",
    "\n",
    "assert answer_one().shape == (15,20), \"Q1: Your DataFrame should have 20 columns and 15 entries!\"\n"
   ]
  },
  {
   "cell_type": "code",
   "execution_count": 4,
   "metadata": {
    "deletable": false,
    "editable": false,
    "nbgrader": {
     "cell_type": "code",
     "checksum": "e241830bcf3f63326b4c9cdf50be8f86",
     "grade": true,
     "grade_id": "cell-74b5f0b971379f64",
     "locked": true,
     "points": 10,
     "schema_version": 3,
     "solution": false
    }
   },
   "outputs": [],
   "source": [
    "# Cell for autograder.\n"
   ]
  },
  {
   "cell_type": "markdown",
   "metadata": {
    "deletable": false,
    "editable": false,
    "nbgrader": {
     "cell_type": "markdown",
     "checksum": "596280cd22ed98c5540580c62954ec2f",
     "grade": false,
     "grade_id": "cell-babe0ff2a1fc6b17",
     "locked": true,
     "schema_version": 3,
     "solution": false
    }
   },
   "source": [
    "### Question 2\n",
    "The previous question joined three datasets then reduced this to just the top 15 entries. When you joined the datasets, but before you reduced this to the top 15 items, how many entries did you lose?\n",
    "\n",
    "*This function should return a single number.*"
   ]
  },
  {
   "cell_type": "code",
   "execution_count": 5,
   "metadata": {
    "deletable": false,
    "editable": false,
    "nbgrader": {
     "cell_type": "code",
     "checksum": "c9a34da81c80126fd23ae2eac33f98f8",
     "grade": false,
     "grade_id": "cell-96f84e7b693bef63",
     "locked": true,
     "schema_version": 3,
     "solution": false
    }
   },
   "outputs": [
    {
     "data": {
      "text/html": [
       "<svg width=\"800\" height=\"300\">\n",
       "  <circle cx=\"150\" cy=\"180\" r=\"80\" fill-opacity=\"0.2\" stroke=\"black\" stroke-width=\"2\" fill=\"blue\" />\n",
       "  <circle cx=\"200\" cy=\"100\" r=\"80\" fill-opacity=\"0.2\" stroke=\"black\" stroke-width=\"2\" fill=\"red\" />\n",
       "  <circle cx=\"100\" cy=\"100\" r=\"80\" fill-opacity=\"0.2\" stroke=\"black\" stroke-width=\"2\" fill=\"green\" />\n",
       "  <line x1=\"150\" y1=\"125\" x2=\"300\" y2=\"150\" stroke=\"black\" stroke-width=\"2\" fill=\"black\" stroke-dasharray=\"5,3\"/>\n",
       "  <text x=\"300\" y=\"165\" font-family=\"Verdana\" font-size=\"35\">Everything but this!</text>\n",
       "</svg>\n"
      ],
      "text/plain": [
       "<IPython.core.display.HTML object>"
      ]
     },
     "metadata": {},
     "output_type": "display_data"
    }
   ],
   "source": [
    "%%HTML\n",
    "<svg width=\"800\" height=\"300\">\n",
    "  <circle cx=\"150\" cy=\"180\" r=\"80\" fill-opacity=\"0.2\" stroke=\"black\" stroke-width=\"2\" fill=\"blue\" />\n",
    "  <circle cx=\"200\" cy=\"100\" r=\"80\" fill-opacity=\"0.2\" stroke=\"black\" stroke-width=\"2\" fill=\"red\" />\n",
    "  <circle cx=\"100\" cy=\"100\" r=\"80\" fill-opacity=\"0.2\" stroke=\"black\" stroke-width=\"2\" fill=\"green\" />\n",
    "  <line x1=\"150\" y1=\"125\" x2=\"300\" y2=\"150\" stroke=\"black\" stroke-width=\"2\" fill=\"black\" stroke-dasharray=\"5,3\"/>\n",
    "  <text x=\"300\" y=\"165\" font-family=\"Verdana\" font-size=\"35\">Everything but this!</text>\n",
    "</svg>"
   ]
  },
  {
   "cell_type": "code",
   "execution_count": 8,
   "metadata": {
    "deletable": false,
    "nbgrader": {
     "cell_type": "code",
     "checksum": "aeeb01fb73054269dd7b818d0945e2f7",
     "grade": false,
     "grade_id": "cell-b0c3202c000aada4",
     "locked": false,
     "schema_version": 3,
     "solution": true
    }
   },
   "outputs": [
    {
     "data": {
      "text/plain": [
       "73"
      ]
     },
     "execution_count": 8,
     "metadata": {},
     "output_type": "execute_result"
    }
   ],
   "source": [
    "def answer_two():\n",
    "    # YOUR CODE HERE\n",
    "    Energy = pd.read_excel('assets/Energy Indicators.xls',skiprows=16,skipfooter=38)\n",
    "    # remove first two columns\n",
    "    Energy=Energy.drop(Energy.columns[[0,1]],axis=1)\n",
    "    # renmae columns\n",
    "    Energy=Energy.rename(columns={'Unnamed: 2':'Country','Energy Supply per capita':'Energy Supply per Capita','Renewable Electricity Production':'% Renewable'})\n",
    "    Energy=Energy.drop([0])\n",
    "    Energy=Energy.replace('...',np.NaN)\n",
    "    # change the values in the columns of Energy Supply\n",
    "    Energy['Energy Supply']=Energy['Energy Supply'].apply(lambda x:x*1000000)\n",
    "    # the numbers in strings [country] need to be removed\n",
    "    Energy['Country']=Energy['Country'].str.replace('\\d+','')\n",
    "    # rename specific rows\n",
    "    country_names = {\"Republic of Korea\": \"South Korea\",\"United States of America\": \"United States\",\"United Kingdom of Great Britain and Northern Ireland\": \"United Kingdom\",\"China, Hong Kong Special Administrative Region\": \"Hong Kong\"}\n",
    "    Energy = Energy.set_index('Country')\n",
    "    Energy = Energy.rename(index=country_names) \n",
    "    # Before change the columns name, the index should be reset\n",
    "    Energy=Energy.reset_index()\n",
    "    Energy['Country']=Energy['Country'].str.replace(r\"\\s\\(.*\\)\",\"\")\n",
    "    \n",
    "    #step 2\n",
    "    # display values in dataframe as floater, instead of scientific notation\n",
    "    pd.set_option('display.float_format', lambda x: f'{x:.0f}')\n",
    "    GDP=pd.read_csv('assets/world_bank.csv',skiprows=4)\n",
    "    country_names2 = {\"Korea, Rep.\": \"South Korea\", \"Iran, Islamic Rep.\": \"Iran\", \"Hong Kong SAR, China\": \"Hong Kong\"}\n",
    "    GDP = GDP.set_index('Country Name')\n",
    "    GDP = GDP.rename(index=country_names2)\n",
    "    GDP=GDP.reset_index()\n",
    "    GDP=GDP.rename(columns={'Country Name': 'Country'})\n",
    "    \n",
    "    #step 3\n",
    "    ScimEn = pd.read_excel('assets/scimagojr-3.xlsx')\n",
    "    \n",
    "    #step 4 merge dataframes\n",
    "    # merge three dataframes\n",
    "    Combine = pd.merge(pd.merge(GDP,Energy,on='Country'),ScimEn,on='Country')\n",
    "    #extract the first 15 rows and 20 required columns\n",
    "    merge_1 = pd.merge(ScimEn, Energy, how='outer',left_index=True, right_index=True)\n",
    "    merge = pd.merge(merge_1, GDP[['2006', '2007', '2008', '2009', '2010', '2011', '2012', '2013', '2014', '2015']], how='outer', left_index=True, right_index=True)\n",
    "    merge_2 = pd.merge(ScimEn, Energy, how='inner',left_index=True, right_index=True)\n",
    "    merge1 = pd.merge(merge_2, GDP[['2006', '2007', '2008', '2009', '2010', '2011', '2012', '2013', '2014', '2015']], how='inner', left_index=True, right_index=True)\n",
    "    return len(merge)-len(merge1)\n",
    "    raise NotImplementedError()\n",
    "answer_two()"
   ]
  },
  {
   "cell_type": "code",
   "execution_count": null,
   "metadata": {
    "deletable": false,
    "editable": false,
    "nbgrader": {
     "cell_type": "code",
     "checksum": "19759b4a6c03f34b647f66d343952619",
     "grade": true,
     "grade_id": "cell-be24cfcaa87ab071",
     "locked": true,
     "points": 6.66,
     "schema_version": 3,
     "solution": false
    }
   },
   "outputs": [],
   "source": [
    "assert type(answer_two()) == int, \"Q2: You should return an int number!\"\n"
   ]
  },
  {
   "cell_type": "markdown",
   "metadata": {
    "deletable": false,
    "editable": false,
    "nbgrader": {
     "cell_type": "markdown",
     "checksum": "5af1b4f99cd383263130f4c00442a133",
     "grade": false,
     "grade_id": "cell-2e54816014e48c18",
     "locked": true,
     "schema_version": 3,
     "solution": false
    }
   },
   "source": [
    "### Question 3\n",
    "What are the top 15 countries for average GDP over the last 10 years?\n",
    "\n",
    "*This function should return a Series named `avgGDP` with 15 countries and their average GDP sorted in descending order.*"
   ]
  },
  {
   "cell_type": "code",
   "execution_count": null,
   "metadata": {
    "deletable": false,
    "nbgrader": {
     "cell_type": "code",
     "checksum": "a3490fd71a46cecfa3da698e006fe729",
     "grade": false,
     "grade_id": "cell-8c3d74335c0d489a",
     "locked": false,
     "schema_version": 3,
     "solution": true
    }
   },
   "outputs": [],
   "source": [
    "def answer_three():\n",
    "    # YOUR CODE HERE\n",
    "    #step 1\n",
    "    Energy = pd.read_excel('assets/Energy Indicators.xls',skiprows=16,skipfooter=38)\n",
    "    # remove first two columns\n",
    "    Energy=Energy.drop(Energy.columns[[0,1]],axis=1)\n",
    "    # renmae columns\n",
    "    Energy=Energy.rename(columns={'Unnamed: 2':'Country','Energy Supply per capita':'Energy Supply per Capita','Renewable Electricity Production':'% Renewable'})\n",
    "    Energy=Energy.drop([0])\n",
    "    Energy=Energy.replace('...',np.NaN)\n",
    "    # change the values in the columns of Energy Supply\n",
    "    Energy['Energy Supply']=Energy['Energy Supply'].apply(lambda x:x*1000000)\n",
    "    # the numbers in strings [country] need to be removed\n",
    "    Energy['Country']=Energy['Country'].str.replace('\\d+','')\n",
    "    # rename specific rows\n",
    "    country_names = {\"Republic of Korea\": \"South Korea\",\"United States of America\": \"United States\",\"United Kingdom of Great Britain and Northern Ireland\": \"United Kingdom\",\"China, Hong Kong Special Administrative Region\": \"Hong Kong\"}\n",
    "    Energy = Energy.set_index('Country')\n",
    "    Energy = Energy.rename(index=country_names) \n",
    "    # Before change the columns name, the index should be reset\n",
    "    Energy=Energy.reset_index()\n",
    "    Energy['Country']=Energy['Country'].str.replace(r\"\\s\\(.*\\)\",\"\")\n",
    "    \n",
    "    #step 2\n",
    "    # display values in dataframe as floater, instead of scientific notation\n",
    "    pd.set_option('display.float_format', lambda x: f'{x:.0f}')\n",
    "    GDP=pd.read_csv('assets/world_bank.csv',skiprows=4)\n",
    "    country_names2 = {\"Korea, Rep.\": \"South Korea\", \"Iran, Islamic Rep.\": \"Iran\", \"Hong Kong SAR, China\": \"Hong Kong\"}\n",
    "    GDP = GDP.set_index('Country Name')\n",
    "    GDP = GDP.rename(index=country_names2)\n",
    "    GDP=GDP.reset_index()\n",
    "    GDP=GDP.rename(columns={'Country Name': 'Country'})\n",
    "    #step 3\n",
    "    ScimEn = pd.read_excel('assets/scimagojr-3.xlsx')\n",
    "    #step 4 merge dataframes\n",
    "    # merge three dataframes\n",
    "    Combine = pd.merge(pd.merge(GDP,Energy,on='Country'),ScimEn,on='Country')\n",
    "    # extract the first 15 rows and 20 required columns\n",
    "    answer = Combine.loc[Combine['Rank'] <= 15].sort_values(by=['Rank'])\n",
    "    answer_one = answer[['Country','Rank', 'Documents', 'Citable documents', 'Citations', 'Self-citations', 'Citations per document', 'H index', 'Energy Supply', 'Energy Supply per Capita', '% Renewable', '2006', '2007', '2008', '2009', '2010', '2011', '2012', '2013', '2014', '2015']]\n",
    "    answer_one = answer_one.set_index('Country')\n",
    "    # generate a new column with average GDP\n",
    "    answer_one['avgGDP'] = answer_one[['2006', '2007', '2008', '2009', '2010', '2011', '2012', '2013', '2014', '2015']].mean(axis=1)\n",
    "    answer_one = answer_one.sort_values(by=['avgGDP'],ascending=False)\n",
    "    # convert dataframe to a list by using squeeze()\n",
    "    answer_three = answer_one['avgGDP'].squeeze()\n",
    "    return answer_three\n",
    "    raise NotImplementedError()"
   ]
  },
  {
   "cell_type": "code",
   "execution_count": null,
   "metadata": {
    "deletable": false,
    "editable": false,
    "nbgrader": {
     "cell_type": "code",
     "checksum": "2f9c90ee07138f94c027c5d2f907ab13",
     "grade": true,
     "grade_id": "cell-aaaa11ef7d26f4cf",
     "locked": true,
     "points": 6.66,
     "schema_version": 3,
     "solution": false
    }
   },
   "outputs": [],
   "source": [
    "assert type(answer_three()) == pd.Series, \"Q3: You should return a Series!\"\n"
   ]
  },
  {
   "cell_type": "markdown",
   "metadata": {},
   "source": [
    "### Question 4\n",
    "By how much had the GDP changed over the 10 year span for the country with the 6th largest average GDP?\n",
    "\n",
    "*This function should return a single number.*"
   ]
  },
  {
   "cell_type": "code",
   "execution_count": 11,
   "metadata": {
    "deletable": false,
    "nbgrader": {
     "cell_type": "code",
     "checksum": "768a19bcc8adc6991fe5c757e95ba784",
     "grade": false,
     "grade_id": "cell-7f77d099e3e0bbee",
     "locked": false,
     "schema_version": 3,
     "solution": true
    }
   },
   "outputs": [
    {
     "data": {
      "text/plain": [
       "246702696075.3999"
      ]
     },
     "execution_count": 11,
     "metadata": {},
     "output_type": "execute_result"
    }
   ],
   "source": [
    "def answer_four():\n",
    "    # YOUR CODE HERE\n",
    "    Top15 = answer_one()\n",
    "    Top15['avgGDP']=Top15[['2006', '2007', '2008', '2009', '2010', '2011', '2012', '2013', '2014', '2015']].mean(axis=1)\n",
    "    Top15.sort_values(['avgGDP'], ascending = False,inplace=True)\n",
    "    answer_four = Top15.iloc[5]['2015']-Top15.iloc[5]['2006']\n",
    "    return answer_four\n",
    "    raise NotImplementedError()\n",
    "answer_four()"
   ]
  },
  {
   "cell_type": "code",
   "execution_count": null,
   "metadata": {
    "deletable": false,
    "editable": false,
    "nbgrader": {
     "cell_type": "code",
     "checksum": "a7770c49cdfac4fa6368dfe8b39e6474",
     "grade": true,
     "grade_id": "cell-564dd8e5e24b0f83",
     "locked": true,
     "points": 6.66,
     "schema_version": 3,
     "solution": false
    }
   },
   "outputs": [],
   "source": [
    "# Cell for autograder.\n"
   ]
  },
  {
   "cell_type": "markdown",
   "metadata": {
    "deletable": false,
    "editable": false,
    "nbgrader": {
     "cell_type": "markdown",
     "checksum": "ed6dbc94ff1b6268873413fee12741cd",
     "grade": false,
     "grade_id": "cell-617669111e38ca15",
     "locked": true,
     "schema_version": 3,
     "solution": false
    }
   },
   "source": [
    "### Question 5\n",
    "What is the mean energy supply per capita?\n",
    "\n",
    "*This function should return a single number.*"
   ]
  },
  {
   "cell_type": "code",
   "execution_count": null,
   "metadata": {
    "deletable": false,
    "nbgrader": {
     "cell_type": "code",
     "checksum": "cfd61a1735889e7ef20692ca0d28ddcb",
     "grade": false,
     "grade_id": "cell-58e79d558e982eef",
     "locked": false,
     "schema_version": 3,
     "solution": true
    }
   },
   "outputs": [],
   "source": [
    "def answer_five():\n",
    "    # YOUR CODE HERE\n",
    "    answer_five=answer_one()['Energy Supply per Capita'].mean()\n",
    "    return answer_five\n",
    "    raise NotImplementedError()"
   ]
  },
  {
   "cell_type": "code",
   "execution_count": null,
   "metadata": {
    "deletable": false,
    "editable": false,
    "nbgrader": {
     "cell_type": "code",
     "checksum": "9d61bf22656baeecc77f63d54448590e",
     "grade": true,
     "grade_id": "cell-30cc66180851638c",
     "locked": true,
     "points": 6.66,
     "schema_version": 3,
     "solution": false
    }
   },
   "outputs": [],
   "source": [
    "# Cell for autograder.\n"
   ]
  },
  {
   "cell_type": "markdown",
   "metadata": {
    "deletable": false,
    "editable": false,
    "nbgrader": {
     "cell_type": "markdown",
     "checksum": "2c7a163ae96f56317756456b0d9d695b",
     "grade": false,
     "grade_id": "cell-5c11ddd12fd71b3f",
     "locked": true,
     "schema_version": 3,
     "solution": false
    }
   },
   "source": [
    "### Question 6\n",
    "What country has the maximum % Renewable and what is the percentage?\n",
    "\n",
    "*This function should return a tuple with the name of the country and the percentage.*"
   ]
  },
  {
   "cell_type": "code",
   "execution_count": null,
   "metadata": {
    "deletable": false,
    "nbgrader": {
     "cell_type": "code",
     "checksum": "f8657f18c77eb0f752bca3cc48561da3",
     "grade": false,
     "grade_id": "cell-b6824b78e74619f9",
     "locked": false,
     "schema_version": 3,
     "solution": true
    }
   },
   "outputs": [],
   "source": [
    "def answer_six():\n",
    "    # YOUR CODE HERE\n",
    "    answer_six=()\n",
    "    answer_six=answer_one()['% Renewable'].idxmax(), answer_one()['% Renewable'].max()\n",
    "    return answer_six\n",
    "    raise NotImplementedError()"
   ]
  },
  {
   "cell_type": "code",
   "execution_count": null,
   "metadata": {
    "deletable": false,
    "editable": false,
    "nbgrader": {
     "cell_type": "code",
     "checksum": "f8b28b0a824a3b76a6244c1273648ccd",
     "grade": true,
     "grade_id": "cell-2bd201c5c7bdd80f",
     "locked": true,
     "points": 6.66,
     "schema_version": 3,
     "solution": false
    }
   },
   "outputs": [],
   "source": [
    "assert type(answer_six()) == tuple, \"Q6: You should return a tuple!\"\n",
    "\n",
    "assert type(answer_six()[0]) == str, \"Q6: The first element in your result should be the name of the country!\"\n"
   ]
  },
  {
   "cell_type": "markdown",
   "metadata": {
    "deletable": false,
    "editable": false,
    "nbgrader": {
     "cell_type": "markdown",
     "checksum": "a7b561a486a28ee4ba80a40715617c6d",
     "grade": false,
     "grade_id": "cell-ddf52a85ad3d5a11",
     "locked": true,
     "schema_version": 3,
     "solution": false
    }
   },
   "source": [
    "### Question 7\n",
    "Create a new column that is the ratio of Self-Citations to Total Citations. \n",
    "What is the maximum value for this new column, and what country has the highest ratio?\n",
    "\n",
    "*This function should return a tuple with the name of the country and the ratio.*"
   ]
  },
  {
   "cell_type": "code",
   "execution_count": null,
   "metadata": {
    "deletable": false,
    "nbgrader": {
     "cell_type": "code",
     "checksum": "e4b1cc5e3deefd24be992fbee18d0e74",
     "grade": false,
     "grade_id": "cell-a4f39737f38aa53c",
     "locked": false,
     "schema_version": 3,
     "solution": true
    }
   },
   "outputs": [],
   "source": [
    "def answer_seven():\n",
    "    # YOUR CODE HERE\n",
    "    df=answer_one()\n",
    "    df['Ratio of self-citations']=df['Self-citations']/df['Citations']\n",
    "    answer_seven=()\n",
    "    answer_seven=df['Ratio of self-citations'].idxmax(), df['Ratio of self-citations'].max()\n",
    "    return answer_seven\n",
    "    raise NotImplementedError()"
   ]
  },
  {
   "cell_type": "code",
   "execution_count": null,
   "metadata": {
    "deletable": false,
    "editable": false,
    "nbgrader": {
     "cell_type": "code",
     "checksum": "ca448b3a16b65a3a08533cac736cc4d9",
     "grade": true,
     "grade_id": "cell-b7a163e9231b88c9",
     "locked": true,
     "points": 6.66,
     "schema_version": 3,
     "solution": false
    }
   },
   "outputs": [],
   "source": [
    "assert type(answer_seven()) == tuple, \"Q7: You should return a tuple!\"\n",
    "\n",
    "assert type(answer_seven()[0]) == str, \"Q7: The first element in your result should be the name of the country!\"\n"
   ]
  },
  {
   "cell_type": "markdown",
   "metadata": {
    "deletable": false,
    "editable": false,
    "nbgrader": {
     "cell_type": "markdown",
     "checksum": "7be7b86ee7467539dd88746818c78c0e",
     "grade": false,
     "grade_id": "cell-5c89296ab6f94218",
     "locked": true,
     "schema_version": 3,
     "solution": false
    }
   },
   "source": [
    "### Question 8\n",
    "\n",
    "Create a column that estimates the population using Energy Supply and Energy Supply per capita. \n",
    "What is the third most populous country according to this estimate?\n",
    "\n",
    "*This function should return the name of the country*"
   ]
  },
  {
   "cell_type": "code",
   "execution_count": 14,
   "metadata": {
    "deletable": false,
    "nbgrader": {
     "cell_type": "code",
     "checksum": "9d733b2abf089b1931e2e792ff51d488",
     "grade": false,
     "grade_id": "cell-9ca58137846b84d6",
     "locked": false,
     "schema_version": 3,
     "solution": true
    }
   },
   "outputs": [
    {
     "data": {
      "text/plain": [
       "'United States'"
      ]
     },
     "execution_count": 14,
     "metadata": {},
     "output_type": "execute_result"
    }
   ],
   "source": [
    "def answer_eight():\n",
    "    # YOUR CODE HERE\n",
    "    df=answer_one()\n",
    "    df['Est']=df['Energy Supply']/df['Energy Supply per Capita']\n",
    "    df = df.sort_values(by=['Est'],ascending=False)\n",
    "    answer_eight=df.iloc[2].name\n",
    "    return answer_eight\n",
    "    raise NotImplementedError()\n",
    "answer_eight()"
   ]
  },
  {
   "cell_type": "code",
   "execution_count": 15,
   "metadata": {
    "deletable": false,
    "editable": false,
    "nbgrader": {
     "cell_type": "code",
     "checksum": "ba2ad50cf8198767b0bd2f75b8d97e87",
     "grade": true,
     "grade_id": "cell-3f3620c88df08b20",
     "locked": true,
     "points": 0,
     "schema_version": 3,
     "solution": false
    }
   },
   "outputs": [],
   "source": [
    "assert type(answer_eight()) == str, \"Q8: You should return the name of the country!\"\n"
   ]
  },
  {
   "cell_type": "markdown",
   "metadata": {
    "deletable": false,
    "editable": false,
    "nbgrader": {
     "cell_type": "markdown",
     "checksum": "164cba98164a1045db7de10dd37115c8",
     "grade": false,
     "grade_id": "cell-2065207e66e5ec01",
     "locked": true,
     "schema_version": 3,
     "solution": false
    }
   },
   "source": [
    "### Question 9\n",
    "Create a column that estimates the number of citable documents per person. \n",
    "What is the correlation between the number of citable documents per capita and the energy supply per capita? Use the `.corr()` method, (Pearson's correlation).\n",
    "\n",
    "*This function should return a single number.*\n",
    "\n",
    "*(Optional: Use the built-in function `plot9()` to visualize the relationship between Energy Supply per Capita vs. Citable docs per Capita)*"
   ]
  },
  {
   "cell_type": "code",
   "execution_count": null,
   "metadata": {
    "deletable": false,
    "nbgrader": {
     "cell_type": "code",
     "checksum": "94e06c4c3a9618b94dbb0e86913b546c",
     "grade": false,
     "grade_id": "cell-033679ea456bfb9d",
     "locked": false,
     "schema_version": 3,
     "solution": true
    }
   },
   "outputs": [],
   "source": [
    "def answer_nine():\n",
    "    # YOUR CODE HERE\n",
    "    df=answer_one()\n",
    "    df['Est']=df['Energy Supply']/df['Energy Supply per Capita']\n",
    "    df['Citable doc per person'] = df['Citable documents']/df['Est']\n",
    "    answer_nine = df['Citable doc per person'].corr(df['Energy Supply per Capita'])\n",
    "    return answer_nine\n",
    "    raise NotImplementedError()"
   ]
  },
  {
   "cell_type": "code",
   "execution_count": null,
   "metadata": {
    "deletable": false,
    "editable": false,
    "nbgrader": {
     "cell_type": "code",
     "checksum": "01a146bbcca0fa9c9c13e71ab52e710f",
     "grade": false,
     "grade_id": "cell-644824f6c708bf80",
     "locked": true,
     "schema_version": 3,
     "solution": false
    }
   },
   "outputs": [],
   "source": [
    "def plot9():\n",
    "    import matplotlib as plt\n",
    "    %matplotlib inline\n",
    "    \n",
    "    Top15 = answer_one()\n",
    "    Top15['PopEst'] = Top15['Energy Supply'] / Top15['Energy Supply per Capita']\n",
    "    Top15['Citable docs per Capita'] = Top15['Citable documents'] / Top15['PopEst']\n",
    "    Top15.plot(x='Citable docs per Capita', y='Energy Supply per Capita', kind='scatter', xlim=[0, 0.0006])"
   ]
  },
  {
   "cell_type": "code",
   "execution_count": null,
   "metadata": {
    "deletable": false,
    "editable": false,
    "nbgrader": {
     "cell_type": "code",
     "checksum": "8dced1dde88b6877f89bdec482870476",
     "grade": true,
     "grade_id": "cell-3cb5c699065a4a20",
     "locked": true,
     "points": 6.66,
     "schema_version": 3,
     "solution": false
    }
   },
   "outputs": [],
   "source": [
    "assert answer_nine() >= -1. and answer_nine() <= 1., \"Q9: A valid correlation should between -1 to 1!\"\n"
   ]
  },
  {
   "cell_type": "markdown",
   "metadata": {
    "deletable": false,
    "editable": false,
    "nbgrader": {
     "cell_type": "markdown",
     "checksum": "8af5ffad89be1e5c6292438724d6f8d5",
     "grade": false,
     "grade_id": "cell-ad09765e29b91157",
     "locked": true,
     "schema_version": 3,
     "solution": false
    }
   },
   "source": [
    "### Question 10\n",
    "Create a new column with a 1 if the country's % Renewable value is at or above the median for all countries in the top 15, and a 0 if the country's % Renewable value is below the median.\n",
    "\n",
    "*This function should return a series named `HighRenew` whose index is the country name sorted in ascending order of rank.*"
   ]
  },
  {
   "cell_type": "code",
   "execution_count": 19,
   "metadata": {
    "deletable": false,
    "nbgrader": {
     "cell_type": "code",
     "checksum": "340c06bd50a9a027a2190674cfb981b9",
     "grade": false,
     "grade_id": "cell-0fdf60e64bf1a4f9",
     "locked": false,
     "schema_version": 3,
     "solution": true
    }
   },
   "outputs": [
    {
     "data": {
      "text/plain": [
       "<bound method Series.info of Country\n",
       "China                 1\n",
       "United States         0\n",
       "Japan                 0\n",
       "United Kingdom        0\n",
       "Russian Federation    1\n",
       "Canada                1\n",
       "Germany               1\n",
       "India                 0\n",
       "France                1\n",
       "South Korea           0\n",
       "Italy                 1\n",
       "Spain                 1\n",
       "Iran                  0\n",
       "Australia             0\n",
       "Brazil                1\n",
       "Name: HighRenew, dtype: int64>"
      ]
     },
     "execution_count": 19,
     "metadata": {},
     "output_type": "execute_result"
    }
   ],
   "source": [
    "def answer_ten():\n",
    "    # YOUR CODE HERE\n",
    "    Top15=answer_one()\n",
    "    Top15['HighRenew']=Top15['% Renewable'].map(lambda x:1 if x>=Top15['% Renewable'].median() else 0) \n",
    "    return Top15['HighRenew']\n",
    "    raise NotImplementedError()\n",
    "answer_ten().info"
   ]
  },
  {
   "cell_type": "code",
   "execution_count": null,
   "metadata": {
    "deletable": false,
    "editable": false,
    "nbgrader": {
     "cell_type": "code",
     "checksum": "f624e6996eca5796eaf27fb4d0593175",
     "grade": true,
     "grade_id": "cell-b29a631fd9a7730f",
     "locked": true,
     "points": 6.66,
     "schema_version": 3,
     "solution": false
    }
   },
   "outputs": [],
   "source": [
    "assert type(answer_ten()) == pd.Series, \"Q10: You should return a Series!\"\n"
   ]
  },
  {
   "cell_type": "markdown",
   "metadata": {
    "deletable": false,
    "editable": false,
    "nbgrader": {
     "cell_type": "markdown",
     "checksum": "52f682e7066791c34cd3b2402855cbf5",
     "grade": false,
     "grade_id": "cell-677c51ba711c3af7",
     "locked": true,
     "schema_version": 3,
     "solution": false
    }
   },
   "source": [
    "### Question 11\n",
    "Use the following dictionary to group the Countries by Continent, then create a DataFrame that displays the sample size (the number of countries in each continent bin), and the sum, mean, and std deviation for the estimated population of each country.\n",
    "\n",
    "```python\n",
    "ContinentDict  = {'China':'Asia', \n",
    "                  'United States':'North America', \n",
    "                  'Japan':'Asia', \n",
    "                  'United Kingdom':'Europe', \n",
    "                  'Russian Federation':'Europe', \n",
    "                  'Canada':'North America', \n",
    "                  'Germany':'Europe', \n",
    "                  'India':'Asia',\n",
    "                  'France':'Europe', \n",
    "                  'South Korea':'Asia', \n",
    "                  'Italy':'Europe', \n",
    "                  'Spain':'Europe', \n",
    "                  'Iran':'Asia',\n",
    "                  'Australia':'Australia', \n",
    "                  'Brazil':'South America'}\n",
    "```\n",
    "\n",
    "*This function should return a DataFrame with index named Continent `['Asia', 'Australia', 'Europe', 'North America', 'South America']` and columns `['size', 'sum', 'mean', 'std']`*"
   ]
  },
  {
   "cell_type": "code",
   "execution_count": null,
   "metadata": {
    "deletable": false,
    "nbgrader": {
     "cell_type": "code",
     "checksum": "b55846bc20cd01b0acbcb776504a766d",
     "grade": false,
     "grade_id": "cell-a5e0c0df27304f98",
     "locked": false,
     "schema_version": 3,
     "solution": true
    }
   },
   "outputs": [],
   "source": [
    "def answer_eleven():\n",
    "    # YOUR CODE HERE\n",
    "    df = answer_one()\n",
    "    df['Population'] = (df['Energy Supply'] / df['Energy Supply per Capita'])\n",
    "    df = df.reset_index()\n",
    "    ContinentDict  = {'China':'Asia', \n",
    "                  'United States':'North America', \n",
    "                  'Japan':'Asia', \n",
    "                  'United Kingdom':'Europe', \n",
    "                  'Russian Federation':'Europe', \n",
    "                  'Canada':'North America', \n",
    "                  'Germany':'Europe', \n",
    "                  'India':'Asia',\n",
    "                  'France':'Europe', \n",
    "                  'South Korea':'Asia', \n",
    "                  'Italy':'Europe', \n",
    "                  'Spain':'Europe', \n",
    "                  'Iran':'Asia',\n",
    "                  'Australia':'Australia', \n",
    "                  'Brazil':'South America'}\n",
    "    # map contients to each country\n",
    "    df['Continent']= df['Country'].map(ContinentDict)\n",
    "    # groupby 'continents' and agg 'population' column\n",
    "    answer_eleven = df.groupby('Continent')['Population'].agg(['size', 'sum','mean','std'])\n",
    "    return answer_eleven\n",
    "    raise NotImplementedError()"
   ]
  },
  {
   "cell_type": "code",
   "execution_count": null,
   "metadata": {
    "deletable": false,
    "editable": false,
    "nbgrader": {
     "cell_type": "code",
     "checksum": "233318097d9c94fdc87395c967da14c4",
     "grade": true,
     "grade_id": "cell-18d1a07971b25743",
     "locked": true,
     "points": 6.66,
     "schema_version": 3,
     "solution": false
    }
   },
   "outputs": [],
   "source": [
    "assert type(answer_eleven()) == pd.DataFrame, \"Q11: You should return a DataFrame!\"\n",
    "\n",
    "assert answer_eleven().shape[0] == 5, \"Q11: Wrong row numbers!\"\n",
    "\n",
    "assert answer_eleven().shape[1] == 4, \"Q11: Wrong column numbers!\"\n"
   ]
  },
  {
   "cell_type": "markdown",
   "metadata": {
    "deletable": false,
    "editable": false,
    "nbgrader": {
     "cell_type": "markdown",
     "checksum": "78d9dbb8ff6e0a1ac1e0d16e026a7d98",
     "grade": false,
     "grade_id": "cell-fa26f5c1eac39c6c",
     "locked": true,
     "schema_version": 3,
     "solution": false
    }
   },
   "source": [
    "### Question 12\n",
    "Cut % Renewable into 5 bins. Group Top15 by the Continent, as well as these new % Renewable bins. How many countries are in each of these groups?\n",
    "\n",
    "*This function should return a Series with a MultiIndex of `Continent`, then the bins for `% Renewable`. Do not include groups with no countries.*"
   ]
  },
  {
   "cell_type": "code",
   "execution_count": 21,
   "metadata": {
    "deletable": false,
    "nbgrader": {
     "cell_type": "code",
     "checksum": "27eb27ec7a3347530174f7047288a881",
     "grade": false,
     "grade_id": "cell-2ecd9a4076abd8f0",
     "locked": false,
     "schema_version": 3,
     "solution": true
    }
   },
   "outputs": [
    {
     "data": {
      "text/plain": [
       "Continent      bins            \n",
       "Asia           (2.212, 15.753]     4\n",
       "               (15.753, 29.227]    1\n",
       "               (29.227, 42.701]    0\n",
       "               (42.701, 56.174]    0\n",
       "               (56.174, 69.648]    0\n",
       "Australia      (2.212, 15.753]     1\n",
       "               (15.753, 29.227]    0\n",
       "               (29.227, 42.701]    0\n",
       "               (42.701, 56.174]    0\n",
       "               (56.174, 69.648]    0\n",
       "Europe         (2.212, 15.753]     1\n",
       "               (15.753, 29.227]    3\n",
       "               (29.227, 42.701]    2\n",
       "               (42.701, 56.174]    0\n",
       "               (56.174, 69.648]    0\n",
       "North America  (2.212, 15.753]     1\n",
       "               (15.753, 29.227]    0\n",
       "               (29.227, 42.701]    0\n",
       "               (42.701, 56.174]    0\n",
       "               (56.174, 69.648]    1\n",
       "South America  (2.212, 15.753]     0\n",
       "               (15.753, 29.227]    0\n",
       "               (29.227, 42.701]    0\n",
       "               (42.701, 56.174]    0\n",
       "               (56.174, 69.648]    1\n",
       "dtype: int64"
      ]
     },
     "execution_count": 21,
     "metadata": {},
     "output_type": "execute_result"
    }
   ],
   "source": [
    "def answer_twelve():\n",
    "    # YOUR CODE HERE\n",
    "    df=answer_one()\n",
    "    df['Population'] = (df['Energy Supply'] / df['Energy Supply per Capita'])\n",
    "    df = df.reset_index()\n",
    "    ContinentDict  = {'China':'Asia', \n",
    "                  'United States':'North America', \n",
    "                  'Japan':'Asia', \n",
    "                  'United Kingdom':'Europe', \n",
    "                  'Russian Federation':'Europe', \n",
    "                  'Canada':'North America', \n",
    "                  'Germany':'Europe', \n",
    "                  'India':'Asia',\n",
    "                  'France':'Europe', \n",
    "                  'South Korea':'Asia', \n",
    "                  'Italy':'Europe', \n",
    "                  'Spain':'Europe', \n",
    "                  'Iran':'Asia',\n",
    "                  'Australia':'Australia', \n",
    "                  'Brazil':'South America'}\n",
    "    # map contients to each country\n",
    "    df['Continent']= df['Country'].map(ContinentDict)\n",
    "    # set Top15 countries into 5 bins and create a new column named 'bins'\n",
    "    df['bins']=pd.cut(df['% Renewable'],bins=5)\n",
    "    # groupby 'continent' and 'bins'\n",
    "    answer_twelve = df.groupby(['Continent','bins']).size()\n",
    "    return answer_twelve\n",
    "    raise NotImplementedError()\n",
    "answer_twelve()\n"
   ]
  },
  {
   "cell_type": "code",
   "execution_count": null,
   "metadata": {
    "deletable": false,
    "editable": false,
    "nbgrader": {
     "cell_type": "code",
     "checksum": "48903ccc73403827b7ddbb155783ea14",
     "grade": true,
     "grade_id": "cell-6c665602d6babab9",
     "locked": true,
     "points": 6.66,
     "schema_version": 3,
     "solution": false
    }
   },
   "outputs": [],
   "source": [
    "assert type(answer_twelve()) == pd.Series, \"Q12: You should return a Series!\"\n",
    "\n",
    "assert len(answer_twelve()) == 25, \"Q12: Wrong result numbers!\"\n"
   ]
  },
  {
   "cell_type": "markdown",
   "metadata": {
    "deletable": false,
    "editable": false,
    "nbgrader": {
     "cell_type": "markdown",
     "checksum": "bdfd9b1bb897304b6337fdc47a05967c",
     "grade": false,
     "grade_id": "cell-4209a10d8f208739",
     "locked": true,
     "schema_version": 3,
     "solution": false
    }
   },
   "source": [
    "### Question 13\n",
    "Convert the Population Estimate series to a string with thousands separator (using commas). Use all significant digits (do not round the results).\n",
    "\n",
    "e.g. 12345678.90 -> 12,345,678.90\n",
    "\n",
    "*This function should return a series `PopEst` whose index is the country name and whose values are the population estimate string*"
   ]
  },
  {
   "cell_type": "code",
   "execution_count": 6,
   "metadata": {
    "deletable": false,
    "nbgrader": {
     "cell_type": "code",
     "checksum": "1efd09964334b7d6100d81d4b3ead3e9",
     "grade": false,
     "grade_id": "cell-58eb0ee0921d93fb",
     "locked": false,
     "schema_version": 3,
     "solution": true
    }
   },
   "outputs": [],
   "source": [
    "def answer_thirteen():\n",
    "    # YOUR CODE HERE\n",
    "    df=answer_one()\n",
    "    df['PopEst'] = (df['Energy Supply'] / df['Energy Supply per Capita'])\n",
    "    df['PopEst']=df['PopEst'].apply(lambda x: '{:,}'.format(x))\n",
    "    answer_thirteen = df['PopEst'].squeeze()\n",
    "    return answer_thirteen\n",
    "    raise NotImplementedError()"
   ]
  },
  {
   "cell_type": "code",
   "execution_count": null,
   "metadata": {
    "deletable": false,
    "editable": false,
    "nbgrader": {
     "cell_type": "code",
     "checksum": "e014781df77c7edab2a181d2d943be8f",
     "grade": true,
     "grade_id": "cell-10fee7228cf973f6",
     "locked": true,
     "points": 6.74,
     "schema_version": 3,
     "solution": false
    }
   },
   "outputs": [],
   "source": [
    "assert type(answer_thirteen()) == pd.Series, \"Q13: You should return a Series!\"\n",
    "\n",
    "assert len(answer_thirteen()) == 15, \"Q13: Wrong result numbers!\"\n"
   ]
  },
  {
   "cell_type": "markdown",
   "metadata": {
    "deletable": false,
    "editable": false,
    "nbgrader": {
     "cell_type": "markdown",
     "checksum": "61562b9b667bd5efbcec0dcd7becbfaa",
     "grade": false,
     "grade_id": "cell-998b62d4f390ef15",
     "locked": true,
     "schema_version": 3,
     "solution": false
    }
   },
   "source": [
    "### Optional\n",
    "\n",
    "Use the built in function `plot_optional()` to see an example visualization."
   ]
  },
  {
   "cell_type": "code",
   "execution_count": null,
   "metadata": {
    "deletable": false,
    "editable": false,
    "nbgrader": {
     "cell_type": "code",
     "checksum": "479786c97cb5f34d07231c6d7c602a47",
     "grade": false,
     "grade_id": "cell-741fd55ea57cd40a",
     "locked": true,
     "schema_version": 3,
     "solution": false
    }
   },
   "outputs": [],
   "source": [
    "def plot_optional():\n",
    "    import matplotlib as plt\n",
    "    %matplotlib inline\n",
    "    Top15 = answer_one()\n",
    "    ax = Top15.plot(x='Rank', y='% Renewable', kind='scatter', \n",
    "                    c=['#e41a1c','#377eb8','#e41a1c','#4daf4a','#4daf4a','#377eb8','#4daf4a','#e41a1c',\n",
    "                       '#4daf4a','#e41a1c','#4daf4a','#4daf4a','#e41a1c','#dede00','#ff7f00'], \n",
    "                    xticks=range(1,16), s=6*Top15['2014']/10**10, alpha=.75, figsize=[16,6]);\n",
    "\n",
    "    for i, txt in enumerate(Top15.index):\n",
    "        ax.annotate(txt, [Top15['Rank'][i], Top15['% Renewable'][i]], ha='center')\n",
    "\n",
    "    print(\"This is an example of a visualization that can be created to help understand the data. \\\n",
    "This is a bubble chart showing % Renewable vs. Rank. The size of the bubble corresponds to the countries' \\\n",
    "2014 GDP, and the color corresponds to the continent.\")"
   ]
  }
 ],
 "metadata": {
  "anaconda-cloud": {},
  "coursera": {
   "schema_names": [
    "mooc_adswpy_v1_assignment3"
   ]
  },
  "kernelspec": {
   "display_name": "Python 3 (ipykernel)",
   "language": "python",
   "name": "python3"
  },
  "language_info": {
   "codemirror_mode": {
    "name": "ipython",
    "version": 3
   },
   "file_extension": ".py",
   "mimetype": "text/x-python",
   "name": "python",
   "nbconvert_exporter": "python",
   "pygments_lexer": "ipython3",
   "version": "3.8.10"
  }
 },
 "nbformat": 4,
 "nbformat_minor": 4
}
